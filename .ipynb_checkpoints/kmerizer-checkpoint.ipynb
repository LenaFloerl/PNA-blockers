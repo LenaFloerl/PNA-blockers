{
 "cells": [
  {
   "cell_type": "markdown",
   "id": "1c9dbc77",
   "metadata": {},
   "source": [
    "# Using q2-kmerizer\n",
    "\n",
    "## Setup"
   ]
  },
  {
   "cell_type": "code",
   "execution_count": 1,
   "id": "f890af84",
   "metadata": {},
   "outputs": [
    {
     "name": "stdout",
     "output_type": "stream",
     "text": [
      "env: TMPDIR=/scratch/lfloerl/tmpdata\n"
     ]
    }
   ],
   "source": [
    "%env TMPDIR=/scratch/lfloerl/tmpdata"
   ]
  },
  {
   "cell_type": "code",
   "execution_count": 2,
   "id": "434abfc2",
   "metadata": {},
   "outputs": [
    {
     "name": "stdout",
     "output_type": "stream",
     "text": [
      "/home/lfloerl/cloud/lfloerl/RxCS_FGCZ/artifacts/16S/PNA-test\n"
     ]
    }
   ],
   "source": [
    "wd = '/home/lfloerl/cloud/lfloerl/RxCS_FGCZ/artifacts/16S/PNA-test'\n",
    "%cd $wd "
   ]
  },
  {
   "cell_type": "code",
   "execution_count": 76,
   "id": "71bcd97f",
   "metadata": {},
   "outputs": [],
   "source": [
    "from qiime2 import Visualization\n",
    "import pandas as pd\n",
    "import matplotlib.pyplot as plt\n",
    "import seaborn as sns\n",
    "\n",
    "%matplotlib inline"
   ]
  },
  {
   "cell_type": "markdown",
   "id": "15ecf051",
   "metadata": {},
   "source": [
    "### Count kmer frequencies per sample"
   ]
  },
  {
   "cell_type": "code",
   "execution_count": 7,
   "id": "3c469785",
   "metadata": {},
   "outputs": [
    {
     "name": "stdout",
     "output_type": "stream",
     "text": [
      "\u001b[32mSaved FeatureData[Sequence] to: filtered-rep-seqs.qza\u001b[0m\r\n",
      "\u001b[0m"
     ]
    }
   ],
   "source": [
    "!qiime feature-table filter-seqs \\\n",
    "  --i-data /home/lfloerl/cloud/lfloerl/RxCS_FGCZ/artifacts/16S/bac-dada2/dada-rep-seqs.qza \\\n",
    "  --i-table /home/lfloerl/cloud/lfloerl/RxCS_FGCZ/artifacts/16S/PNA-test/taxa_filtered_table.qza \\\n",
    "  --o-filtered-data filtered-rep-seqs.qza"
   ]
  },
  {
   "cell_type": "code",
   "execution_count": 13,
   "id": "bd71cb40",
   "metadata": {
    "scrolled": true
   },
   "outputs": [
    {
     "name": "stdout",
     "output_type": "stream",
     "text": [
      "Saved FeatureTable[Frequency] to: kmer_table.qza\n",
      "Saved Visualization to: kmer_table.qzv\n"
     ]
    }
   ],
   "source": [
    "%%bash\n",
    "\n",
    "qiime kmerizer seqs-to-kmers \\\n",
    "    --i-sequences filtered-rep-seqs.qza \\\n",
    "    --i-table taxa_filtered_table.qza \\\n",
    "    --o-kmer-table kmer_table.qza \\\n",
    "    --p-max-features 5000\n",
    "\n",
    "qiime feature-table summarize --i-table kmer_table.qza --o-visualization kmer_table.qzv"
   ]
  },
  {
   "cell_type": "code",
   "execution_count": 14,
   "id": "5a6fd717",
   "metadata": {
    "scrolled": true
   },
   "outputs": [
    {
     "data": {
      "text/html": [
       "<div><img onload=\"(function(div, url){\n",
       "if (typeof require !== 'undefined') {\n",
       "    var baseURL = require.toUrl('').split('/').slice(0, -2).join('/');\n",
       "} else {\n",
       "    var baseURL = JSON.parse(\n",
       "        document.getElementById('jupyter-config-data').innerHTML\n",
       "    ).baseUrl.slice(0, -1);\n",
       "}\n",
       "url = baseURL + url;\n",
       "fetch(url).then(function(res) {\n",
       "    if (res.status === 404) {\n",
       "        div.innerHTML = 'Install QIIME 2 Jupyter extension with:<br />' +\n",
       "                        '<code>jupyter serverextension enable --py qiime2' +\n",
       "                        ' --sys-prefix</code><br />then restart your server.' +\n",
       "                        '<br /><br />(Interactive output not available on ' +\n",
       "                        'static notebook viewer services like nbviewer.)';\n",
       "    } else if (res.status === 409) {\n",
       "        div.innerHTML = 'Visualization no longer in scope. Re-run this cell' +\n",
       "                        ' to see the visualization.';\n",
       "    } else if (res.ok) {\n",
       "        url = res.url;\n",
       "        div.innerHTML = '<iframe src=\\'' + url + '\\' style=\\'' +\n",
       "                        'width: 100%; height: 700px; border: 0;\\'>' +\n",
       "                        '</iframe><hr />Open in a: <a href=\\'' + url + '\\'' +\n",
       "                        ' target=\\'_blank\\'>new window</a>'\n",
       "    } else {\n",
       "        div.innerHTML = 'Something has gone wrong. Check notebook server for' +\n",
       "                        ' errors.';\n",
       "    }\n",
       "});\n",
       "})(this.parentElement, '/qiime2/redirect?location=/scratch/lfloerl/tmpdata/qiime2/lfloerl/data/56671c21-1b4a-4647-a0fe-79a531703ebb')\" src=\"data:image/gif;base64,R0lGODlhAQABAIAAAP///wAAACH5BAEAAAAALAAAAAABAAEAAAICRAEAOw==\" /></div>"
      ],
      "text/plain": [
       "<visualization: Visualization uuid: 56671c21-1b4a-4647-a0fe-79a531703ebb>"
      ]
     },
     "execution_count": 14,
     "metadata": {},
     "output_type": "execute_result"
    }
   ],
   "source": [
    "Visualization.load('kmer_table.qzv')"
   ]
  },
  {
   "cell_type": "markdown",
   "id": "88b1ba4c",
   "metadata": {},
   "source": [
    "### Pipeline to count kmer frequencies, calculate diversity metrics, and create an interactive scatterplot"
   ]
  },
  {
   "cell_type": "code",
   "execution_count": 33,
   "id": "9613a101",
   "metadata": {
    "scrolled": false
   },
   "outputs": [
    {
     "name": "stdout",
     "output_type": "stream",
     "text": [
      "Usage: \u001b[94mqiime kmerizer core-metrics\u001b[0m [OPTIONS]\r\n",
      "\r\n",
      "  Generate kmer counts from sequences and apply a collection of diversity\r\n",
      "  metrics (non-phylogenetic) to compare samples.\r\n",
      "\r\n",
      "\u001b[1mInputs\u001b[0m:\r\n",
      "  \u001b[94m\u001b[4m--i-sequences\u001b[0m ARTIFACT \u001b[32mFeatureData[Sequence | RNASequence |\u001b[0m\r\n",
      "    \u001b[32mProteinSequence]\u001b[0m      Biological sequences to kmerize.          \u001b[35m[required]\u001b[0m\r\n",
      "  \u001b[94m\u001b[4m--i-table\u001b[0m ARTIFACT \u001b[32mFeatureTable[Frequency]\u001b[0m\r\n",
      "                          Frequencies of sequences per sample.      \u001b[35m[required]\u001b[0m\r\n",
      "\u001b[1mParameters\u001b[0m:\r\n",
      "  \u001b[94m\u001b[4m--p-sampling-depth\u001b[0m INTEGER\r\n",
      "    \u001b[32mRange(1, None)\u001b[0m        The total frequency that each sample should be\r\n",
      "                          rarefied to prior to computing diversity metrics.\r\n",
      "                                                                    \u001b[35m[required]\u001b[0m\r\n",
      "  \u001b[94m\u001b[4m--m-metadata-file\u001b[0m METADATA...\r\n",
      "    (multiple arguments   The sample metadata to use in the emperor plots.\r\n",
      "     will be merged)                                                \u001b[35m[required]\u001b[0m\r\n",
      "  \u001b[94m--p-kmer-size\u001b[0m INTEGER   Length of kmers to generate.           \u001b[35m[default: 16]\u001b[0m\r\n",
      "  \u001b[94m--p-tfidf\u001b[0m / \u001b[94m--p-no-tfidf\u001b[0m\r\n",
      "                          If True, kmers will be scored using TF-IDF and\r\n",
      "                          output frequencies will be weighted by scores. If\r\n",
      "                          False, kmers are counted without TF-IDF scores.\r\n",
      "                                                              \u001b[35m[default: False]\u001b[0m\r\n",
      "  \u001b[94m--p-max-df\u001b[0m VALUE \u001b[32mFloat % Range(0, 1, inclusive_end=True) | Int\u001b[0m\r\n",
      "                          Ignore kmers that have a frequency strictly higher\r\n",
      "                          than the given threshold. If float, the parameter\r\n",
      "                          represents a proportion of sequences, if an integer\r\n",
      "                          it represents an absolute count.      \u001b[35m[default: 1.0]\u001b[0m\r\n",
      "  \u001b[94m--p-min-df\u001b[0m VALUE \u001b[32mFloat % Range(0, 1) | Int\u001b[0m\r\n",
      "                          Ignore kmers that have a frequency strictly lower\r\n",
      "                          than the given threshold. If float, the parameter\r\n",
      "                          represents a proportion of sequences, if an integer\r\n",
      "                          it represents an absolute count.        \u001b[35m[default: 1]\u001b[0m\r\n",
      "  \u001b[94m--p-max-features\u001b[0m INTEGER\r\n",
      "                          If not None, build a vocabulary that only considers\r\n",
      "                          the top \u001b[4mmax-features\u001b[0m ordered by frequency (or TF-IDF\r\n",
      "                          score).                                   \u001b[35m[optional]\u001b[0m\r\n",
      "  \u001b[94m--p-with-replacement\u001b[0m / \u001b[94m--p-no-with-replacement\u001b[0m\r\n",
      "                          Rarefy with replacement by sampling from the\r\n",
      "                          multinomial distribution instead of rarefying\r\n",
      "                          without replacement.                \u001b[35m[default: False]\u001b[0m\r\n",
      "  \u001b[94m--p-n-jobs\u001b[0m VALUE \u001b[32mInt % Range(1, None) | Str % Choices('auto')\u001b[0m\r\n",
      "                          [beta methods only] - The number of concurrent jobs\r\n",
      "                          to use in performing this calculation. May not\r\n",
      "                          exceed the number of available physical cores. If\r\n",
      "                          \u001b[4mn-jobs\u001b[0m = 'auto', one job will be launched for each\r\n",
      "                          identified CPU core on the host.        \u001b[35m[default: 1]\u001b[0m\r\n",
      "  \u001b[94m--p-pc-dimensions\u001b[0m INTEGER\r\n",
      "                          Number of principal coordinate dimensions to keep\r\n",
      "                          for plotting.                           \u001b[35m[default: 3]\u001b[0m\r\n",
      "  \u001b[94m--p-color-by-group\u001b[0m TEXT Categorical measure from the input Metadata that\r\n",
      "                          should be used for color-coding the scatterplot.\r\n",
      "                                                                    \u001b[35m[optional]\u001b[0m\r\n",
      "\u001b[1mOutputs\u001b[0m:\r\n",
      "  \u001b[94m\u001b[4m--o-rarefied-table\u001b[0m ARTIFACT \u001b[32mFeatureTable[Frequency]\u001b[0m\r\n",
      "                          The resulting rarefied feature table.     \u001b[35m[required]\u001b[0m\r\n",
      "  \u001b[94m\u001b[4m--o-kmer-table\u001b[0m ARTIFACT \u001b[32mFeatureTable[Frequency]\u001b[0m\r\n",
      "                          Frequencies of kmers per sample.          \u001b[35m[required]\u001b[0m\r\n",
      "  \u001b[94m\u001b[4m--o-observed-features-vector\u001b[0m ARTIFACT \u001b[32mSampleData[AlphaDiversity]\u001b[0m\r\n",
      "                          Vector of Observed Kmers values by sample.\r\n",
      "                                                                    \u001b[35m[required]\u001b[0m\r\n",
      "  \u001b[94m\u001b[4m--o-shannon-vector\u001b[0m ARTIFACT \u001b[32mSampleData[AlphaDiversity]\u001b[0m\r\n",
      "                          Vector of Shannon diversity values by sample.\r\n",
      "                                                                    \u001b[35m[required]\u001b[0m\r\n",
      "  \u001b[94m\u001b[4m--o-jaccard-distance-matrix\u001b[0m ARTIFACT\r\n",
      "    \u001b[32mDistanceMatrix\u001b[0m        Matrix of Jaccard distances between pairs of\r\n",
      "                          samples.                                  \u001b[35m[required]\u001b[0m\r\n",
      "  \u001b[94m\u001b[4m--o-bray-curtis-distance-matrix\u001b[0m ARTIFACT\r\n",
      "    \u001b[32mDistanceMatrix\u001b[0m        Matrix of Bray-Curtis dissimilarities between pairs\r\n",
      "                          of samples.                               \u001b[35m[required]\u001b[0m\r\n",
      "  \u001b[94m\u001b[4m--o-jaccard-pcoa-results\u001b[0m ARTIFACT\r\n",
      "    \u001b[32mPCoAResults\u001b[0m           PCoA matrix computed from Jaccard distances between\r\n",
      "                          samples.                                  \u001b[35m[required]\u001b[0m\r\n",
      "  \u001b[94m\u001b[4m--o-bray-curtis-pcoa-results\u001b[0m ARTIFACT\r\n",
      "    \u001b[32mPCoAResults\u001b[0m           PCoA matrix computed from Bray-Curtis\r\n",
      "                          dissimilarities between samples.          \u001b[35m[required]\u001b[0m\r\n",
      "  \u001b[94m\u001b[4m--o-scatterplot\u001b[0m VISUALIZATION\r\n",
      "                          Scatterplot of results. Axes can be selected to\r\n",
      "                          display alpha diversity results or PCoA coordinates\r\n",
      "                          computed from Jaccard or Bray-Curtis.     \u001b[35m[required]\u001b[0m\r\n",
      "\u001b[1mMiscellaneous\u001b[0m:\r\n",
      "  \u001b[94m--output-dir\u001b[0m PATH       Output unspecified results to a directory\r\n",
      "  \u001b[94m--verbose\u001b[0m / \u001b[94m--quiet\u001b[0m     Display verbose output to stdout and/or stderr\r\n",
      "                          during execution of this action. Or silence output\r\n",
      "                          if execution is successful (silence is golden).\r\n",
      "  \u001b[94m--recycle-pool\u001b[0m TEXT     Use a cache pool for pipeline resumption. QIIME 2\r\n",
      "                          will cache your results in this pool for reuse by\r\n",
      "                          future invocations. These pool are retained until\r\n",
      "                          deleted by the user. If not provided, QIIME 2 will\r\n",
      "                          create a pool which is automatically reused by\r\n",
      "                          invocations of the same action and removed if the\r\n",
      "                          action is successful. Note: these pools are local to\r\n",
      "                          the cache you are using.\r\n",
      "  \u001b[94m--no-recycle\u001b[0m            Do not recycle results from a previous failed\r\n",
      "                          pipeline run or save the results from this run for\r\n",
      "                          future recycling.\r\n",
      "  \u001b[94m--parallel\u001b[0m              Execute your action in parallel. This flag will use\r\n",
      "                          your default parallel config.\r\n",
      "  \u001b[94m--parallel-config\u001b[0m FILE  Execute your action in parallel using a config at\r\n",
      "                          the indicated path.\r\n",
      "  \u001b[94m--example-data\u001b[0m PATH     Write example data and exit.\r\n",
      "  \u001b[94m--citations\u001b[0m             Show citations and exit.\r\n",
      "  \u001b[94m--use-cache\u001b[0m DIRECTORY   Specify the cache to be used for the intermediate\r\n",
      "                          work of this action. If not provided, the default\r\n",
      "                          cache under $TMP/qiime2/<uname> will be used.\r\n",
      "                          IMPORTANT FOR HPC USERS: If you are on an HPC system\r\n",
      "                          and are using parallel execution it is important to\r\n",
      "                          set this to a location that is globally accessible\r\n",
      "                          to all nodes in the cluster.\r\n",
      "  \u001b[94m--help\u001b[0m                  Show this message and exit.\r\n",
      "\u001b[0m"
     ]
    }
   ],
   "source": [
    "!qiime kmerizer core-metrics --help"
   ]
  },
  {
   "cell_type": "code",
   "execution_count": 43,
   "id": "22aca9c9",
   "metadata": {},
   "outputs": [],
   "source": [
    "!rm -r kmer_core-metrics_1000_k16"
   ]
  },
  {
   "cell_type": "code",
   "execution_count": 54,
   "id": "3e424ae8",
   "metadata": {
    "scrolled": true
   },
   "outputs": [
    {
     "name": "stdout",
     "output_type": "stream",
     "text": [
      " 16S_PNA_md_reindexed.tsv\t    kmer_core-metrics_5000\r\n",
      " 2020-taxabarplot.csv\t\t    kmer_core-metrics_d1000_f5000_k16\r\n",
      " adonis_bray_curtis.qzv\t\t    kmer_core-metrics_d1000_f5000_k7\r\n",
      " adonis-contaminations.qzv\t    kmer_core-metrics_d100_f5000_k16\r\n",
      " adonis_jaccard.qzv\t\t    kmer_table.qza\r\n",
      " alpha_rarefaction_curves.qzv\t    kmer_table.qzv\r\n",
      " ANCOM\t\t\t\t   'level-5(4).csv'\r\n",
      " BC_PCoA.png\t\t\t    line_plots.png\r\n",
      " BC-procrustes\t\t\t    line_plots_wConf.png\r\n",
      " box_plots.png\t\t\t    mitochondria_line_plot_wConf.png\r\n",
      " ChloroMito_filtered_table\t    mpPNAs_cm100\r\n",
      " ChloroMito_filtered_table.qza\t    mpPNAs_cm85\r\n",
      " ChloroMito_filtered_table.qzv\t    mpPNA_table.qza\r\n",
      " chloroplast_line_plot_wConf.png    mpPNA_table.qzv\r\n",
      " cm100\t\t\t\t    noPNAs_cm100\r\n",
      " cm500\t\t\t\t    noPNAs_cm85\r\n",
      " cm590\t\t\t\t    noPNAs_mpPNAs_procrustes_BC.qzv\r\n",
      " contaminants-distance-matrix.qza   noPNAs_mpPNAs_procrustes_jaccard.qzv\r\n",
      " contaminants_filtered_table\t    noPNA_table.qza\r\n",
      " contaminants_filtered_table.qza    noPNA_table.qzv\r\n",
      " contaminants_filtered_table.qzv    obs_features.tsv\r\n",
      " dada-table\t\t\t    phylum_filtered_table\r\n",
      " decontam-table\t\t\t    phylum_filtered_table.qza\r\n",
      " filtered-rep-seqs.qza\t\t    phylum_filtered_table.qzv\r\n",
      " Jaccard_PCoA.png\t\t    PNA-table.qza\r\n",
      " jaccard-procrustes\t\t    PNA-table.qzv\r\n",
      " kmer_core-metrics_100\t\t    taxa_barplot_grouped.qzv\r\n",
      " kmer_core-metrics_1000\t\t    taxa_barplot.qzv\r\n",
      " kmer_core-metrics_1000_k16\t    taxa_filtered_table.qza\r\n",
      " kmer_core-metrics_100_k16\t    taxa_filtered_table.qzv\r\n"
     ]
    }
   ],
   "source": [
    "!ls"
   ]
  },
  {
   "cell_type": "code",
   "execution_count": 55,
   "id": "6d44edab",
   "metadata": {},
   "outputs": [
    {
     "name": "stdout",
     "output_type": "stream",
     "text": [
      "Saved FeatureTable[Frequency] to: kmer_core-metrics_d100_f5000_k7/rarefied_table.qza\n",
      "Saved FeatureTable[Frequency] to: kmer_core-metrics_d100_f5000_k7/kmer_table.qza\n",
      "Saved SampleData[AlphaDiversity] to: kmer_core-metrics_d100_f5000_k7/observed_features_vector.qza\n",
      "Saved SampleData[AlphaDiversity] to: kmer_core-metrics_d100_f5000_k7/shannon_vector.qza\n",
      "Saved DistanceMatrix to: kmer_core-metrics_d100_f5000_k7/jaccard_distance_matrix.qza\n",
      "Saved DistanceMatrix to: kmer_core-metrics_d100_f5000_k7/bray_curtis_distance_matrix.qza\n",
      "Saved PCoAResults to: kmer_core-metrics_d100_f5000_k7/jaccard_pcoa_results.qza\n",
      "Saved PCoAResults to: kmer_core-metrics_d100_f5000_k7/bray_curtis_pcoa_results.qza\n",
      "Saved Visualization to: kmer_core-metrics_d100_f5000_k7/scatterplot.qzv\n"
     ]
    }
   ],
   "source": [
    "%%bash \n",
    "\n",
    "qiime kmerizer core-metrics \\\n",
    "    --i-sequences filtered-rep-seqs.qza \\\n",
    "    --i-table taxa_filtered_table.qza \\\n",
    "    --p-sampling-depth 100 \\\n",
    "    --p-n-jobs 'auto' \\\n",
    "    --p-kmer-size 7 \\\n",
    "    --m-metadata-file /home/lfloerl/RxCS/Metadata/16S_PNA-test-withLoss.tsv \\\n",
    "    --p-max-features 5000 \\\n",
    "    --output-dir kmer_core-metrics_d100_f5000_k7/"
   ]
  },
  {
   "cell_type": "code",
   "execution_count": 57,
   "id": "e3909d5b",
   "metadata": {},
   "outputs": [
    {
     "data": {
      "text/html": [
       "<div><img onload=\"(function(div, url){\n",
       "if (typeof require !== 'undefined') {\n",
       "    var baseURL = require.toUrl('').split('/').slice(0, -2).join('/');\n",
       "} else {\n",
       "    var baseURL = JSON.parse(\n",
       "        document.getElementById('jupyter-config-data').innerHTML\n",
       "    ).baseUrl.slice(0, -1);\n",
       "}\n",
       "url = baseURL + url;\n",
       "fetch(url).then(function(res) {\n",
       "    if (res.status === 404) {\n",
       "        div.innerHTML = 'Install QIIME 2 Jupyter extension with:<br />' +\n",
       "                        '<code>jupyter serverextension enable --py qiime2' +\n",
       "                        ' --sys-prefix</code><br />then restart your server.' +\n",
       "                        '<br /><br />(Interactive output not available on ' +\n",
       "                        'static notebook viewer services like nbviewer.)';\n",
       "    } else if (res.status === 409) {\n",
       "        div.innerHTML = 'Visualization no longer in scope. Re-run this cell' +\n",
       "                        ' to see the visualization.';\n",
       "    } else if (res.ok) {\n",
       "        url = res.url;\n",
       "        div.innerHTML = '<iframe src=\\'' + url + '\\' style=\\'' +\n",
       "                        'width: 100%; height: 700px; border: 0;\\'>' +\n",
       "                        '</iframe><hr />Open in a: <a href=\\'' + url + '\\'' +\n",
       "                        ' target=\\'_blank\\'>new window</a>'\n",
       "    } else {\n",
       "        div.innerHTML = 'Something has gone wrong. Check notebook server for' +\n",
       "                        ' errors.';\n",
       "    }\n",
       "});\n",
       "})(this.parentElement, '/qiime2/redirect?location=/scratch/lfloerl/tmpdata/qiime2/lfloerl/data/3cdd100d-cb65-4c9a-b5c7-2f4ba5ba1c10')\" src=\"data:image/gif;base64,R0lGODlhAQABAIAAAP///wAAACH5BAEAAAAALAAAAAABAAEAAAICRAEAOw==\" /></div>"
      ],
      "text/plain": [
       "<visualization: Visualization uuid: 3cdd100d-cb65-4c9a-b5c7-2f4ba5ba1c10>"
      ]
     },
     "execution_count": 57,
     "metadata": {},
     "output_type": "execute_result"
    }
   ],
   "source": [
    "Visualization.load('kmer_core-metrics_d100_f5000_k16/scatterplot.qzv')"
   ]
  },
  {
   "cell_type": "markdown",
   "id": "a419e787",
   "metadata": {},
   "source": [
    "### Alpha Significance"
   ]
  },
  {
   "cell_type": "code",
   "execution_count": 58,
   "id": "296af473",
   "metadata": {},
   "outputs": [
    {
     "name": "stdout",
     "output_type": "stream",
     "text": [
      "Saved Visualization to: kmer_core-metrics_d100_f5000_k16/observed_features_GroupSign.qzv\n",
      "Saved Visualization to: kmer_core-metrics_d100_f5000_k16/shannon_GroupSign.qzv\n"
     ]
    }
   ],
   "source": [
    "%%bash \n",
    "\n",
    "qiime diversity alpha-group-significance \\\n",
    "  --i-alpha-diversity kmer_core-metrics_d100_f5000_k16/observed_features_vector.qza \\\n",
    "  --m-metadata-file /home/lfloerl/RxCS/Metadata/16S_PNA-test-withLoss.tsv \\\n",
    "  --o-visualization kmer_core-metrics_d100_f5000_k16/observed_features_GroupSign.qzv\n",
    "\n",
    "qiime diversity alpha-group-significance \\\n",
    "  --i-alpha-diversity kmer_core-metrics_d100_f5000_k16/shannon_vector.qza \\\n",
    "  --m-metadata-file /home/lfloerl/RxCS/Metadata/16S_PNA-test-withLoss.tsv \\\n",
    "  --o-visualization kmer_core-metrics_d100_f5000_k16/shannon_GroupSign.qzv"
   ]
  },
  {
   "cell_type": "code",
   "execution_count": 59,
   "id": "40a944b1",
   "metadata": {},
   "outputs": [
    {
     "data": {
      "text/html": [
       "<div><img onload=\"(function(div, url){\n",
       "if (typeof require !== 'undefined') {\n",
       "    var baseURL = require.toUrl('').split('/').slice(0, -2).join('/');\n",
       "} else {\n",
       "    var baseURL = JSON.parse(\n",
       "        document.getElementById('jupyter-config-data').innerHTML\n",
       "    ).baseUrl.slice(0, -1);\n",
       "}\n",
       "url = baseURL + url;\n",
       "fetch(url).then(function(res) {\n",
       "    if (res.status === 404) {\n",
       "        div.innerHTML = 'Install QIIME 2 Jupyter extension with:<br />' +\n",
       "                        '<code>jupyter serverextension enable --py qiime2' +\n",
       "                        ' --sys-prefix</code><br />then restart your server.' +\n",
       "                        '<br /><br />(Interactive output not available on ' +\n",
       "                        'static notebook viewer services like nbviewer.)';\n",
       "    } else if (res.status === 409) {\n",
       "        div.innerHTML = 'Visualization no longer in scope. Re-run this cell' +\n",
       "                        ' to see the visualization.';\n",
       "    } else if (res.ok) {\n",
       "        url = res.url;\n",
       "        div.innerHTML = '<iframe src=\\'' + url + '\\' style=\\'' +\n",
       "                        'width: 100%; height: 700px; border: 0;\\'>' +\n",
       "                        '</iframe><hr />Open in a: <a href=\\'' + url + '\\'' +\n",
       "                        ' target=\\'_blank\\'>new window</a>'\n",
       "    } else {\n",
       "        div.innerHTML = 'Something has gone wrong. Check notebook server for' +\n",
       "                        ' errors.';\n",
       "    }\n",
       "});\n",
       "})(this.parentElement, '/qiime2/redirect?location=/scratch/lfloerl/tmpdata/qiime2/lfloerl/data/3daa95c4-a374-4edc-8fce-5492d631b502')\" src=\"data:image/gif;base64,R0lGODlhAQABAIAAAP///wAAACH5BAEAAAAALAAAAAABAAEAAAICRAEAOw==\" /></div>"
      ],
      "text/plain": [
       "<visualization: Visualization uuid: 3daa95c4-a374-4edc-8fce-5492d631b502>"
      ]
     },
     "execution_count": 59,
     "metadata": {},
     "output_type": "execute_result"
    }
   ],
   "source": [
    "Visualization.load('kmer_core-metrics_d100_f5000_k16/observed_features_GroupSign.qzv')"
   ]
  },
  {
   "cell_type": "code",
   "execution_count": 60,
   "id": "2c038169",
   "metadata": {},
   "outputs": [
    {
     "data": {
      "text/html": [
       "<div><img onload=\"(function(div, url){\n",
       "if (typeof require !== 'undefined') {\n",
       "    var baseURL = require.toUrl('').split('/').slice(0, -2).join('/');\n",
       "} else {\n",
       "    var baseURL = JSON.parse(\n",
       "        document.getElementById('jupyter-config-data').innerHTML\n",
       "    ).baseUrl.slice(0, -1);\n",
       "}\n",
       "url = baseURL + url;\n",
       "fetch(url).then(function(res) {\n",
       "    if (res.status === 404) {\n",
       "        div.innerHTML = 'Install QIIME 2 Jupyter extension with:<br />' +\n",
       "                        '<code>jupyter serverextension enable --py qiime2' +\n",
       "                        ' --sys-prefix</code><br />then restart your server.' +\n",
       "                        '<br /><br />(Interactive output not available on ' +\n",
       "                        'static notebook viewer services like nbviewer.)';\n",
       "    } else if (res.status === 409) {\n",
       "        div.innerHTML = 'Visualization no longer in scope. Re-run this cell' +\n",
       "                        ' to see the visualization.';\n",
       "    } else if (res.ok) {\n",
       "        url = res.url;\n",
       "        div.innerHTML = '<iframe src=\\'' + url + '\\' style=\\'' +\n",
       "                        'width: 100%; height: 700px; border: 0;\\'>' +\n",
       "                        '</iframe><hr />Open in a: <a href=\\'' + url + '\\'' +\n",
       "                        ' target=\\'_blank\\'>new window</a>'\n",
       "    } else {\n",
       "        div.innerHTML = 'Something has gone wrong. Check notebook server for' +\n",
       "                        ' errors.';\n",
       "    }\n",
       "});\n",
       "})(this.parentElement, '/qiime2/redirect?location=/scratch/lfloerl/tmpdata/qiime2/lfloerl/data/5d0f4ffd-b986-405d-a9f1-6c649e555fbf')\" src=\"data:image/gif;base64,R0lGODlhAQABAIAAAP///wAAACH5BAEAAAAALAAAAAABAAEAAAICRAEAOw==\" /></div>"
      ],
      "text/plain": [
       "<visualization: Visualization uuid: 5d0f4ffd-b986-405d-a9f1-6c649e555fbf>"
      ]
     },
     "execution_count": 60,
     "metadata": {},
     "output_type": "execute_result"
    }
   ],
   "source": [
    "Visualization.load('kmer_core-metrics_d100_f5000_k16/shannon_GroupSign.qzv')"
   ]
  },
  {
   "cell_type": "markdown",
   "id": "a31246f3",
   "metadata": {},
   "source": [
    "## ADONIS"
   ]
  },
  {
   "cell_type": "code",
   "execution_count": 61,
   "id": "901af1c1",
   "metadata": {},
   "outputs": [
    {
     "name": "stdout",
     "output_type": "stream",
     "text": [
      "Saved Visualization to: /home/lfloerl/cloud/lfloerl/RxCS_FGCZ/artifacts/16S/PNA-test/adonis_bray_curtis.qzv\n",
      "Saved Visualization to: /home/lfloerl/cloud/lfloerl/RxCS_FGCZ/artifacts/16S/PNA-test/adonis_jaccard.qzv\n"
     ]
    }
   ],
   "source": [
    "%%bash\n",
    "\n",
    "formula='Sample * PNAs'\n",
    "beta_metrics=('bray_curtis' 'jaccard')\n",
    "threads=4  \n",
    "output_dir='/home/lfloerl/cloud/lfloerl/RxCS_FGCZ/artifacts/16S/PNA-test/'  \n",
    "md='/home/lfloerl/RxCS/Metadata/16S_PNA-test-withLoss.tsv'\n",
    "\n",
    "for m in \"${beta_metrics[@]}\"; do\n",
    "    qiime diversity adonis \\\n",
    "        --i-distance-matrix kmer_core-metrics_d100_f5000_k16/${m}_distance_matrix.qza \\\n",
    "        --m-metadata-file ${md} \\\n",
    "        --p-formula \"${formula}\" \\\n",
    "        --p-n-jobs ${threads} \\\n",
    "        --o-visualization ${output_dir}adonis_${m}.qzv\n",
    "done\n"
   ]
  },
  {
   "cell_type": "code",
   "execution_count": 62,
   "id": "e0730e66",
   "metadata": {
    "scrolled": true
   },
   "outputs": [
    {
     "data": {
      "text/html": [
       "<div><img onload=\"(function(div, url){\n",
       "if (typeof require !== 'undefined') {\n",
       "    var baseURL = require.toUrl('').split('/').slice(0, -2).join('/');\n",
       "} else {\n",
       "    var baseURL = JSON.parse(\n",
       "        document.getElementById('jupyter-config-data').innerHTML\n",
       "    ).baseUrl.slice(0, -1);\n",
       "}\n",
       "url = baseURL + url;\n",
       "fetch(url).then(function(res) {\n",
       "    if (res.status === 404) {\n",
       "        div.innerHTML = 'Install QIIME 2 Jupyter extension with:<br />' +\n",
       "                        '<code>jupyter serverextension enable --py qiime2' +\n",
       "                        ' --sys-prefix</code><br />then restart your server.' +\n",
       "                        '<br /><br />(Interactive output not available on ' +\n",
       "                        'static notebook viewer services like nbviewer.)';\n",
       "    } else if (res.status === 409) {\n",
       "        div.innerHTML = 'Visualization no longer in scope. Re-run this cell' +\n",
       "                        ' to see the visualization.';\n",
       "    } else if (res.ok) {\n",
       "        url = res.url;\n",
       "        div.innerHTML = '<iframe src=\\'' + url + '\\' style=\\'' +\n",
       "                        'width: 100%; height: 700px; border: 0;\\'>' +\n",
       "                        '</iframe><hr />Open in a: <a href=\\'' + url + '\\'' +\n",
       "                        ' target=\\'_blank\\'>new window</a>'\n",
       "    } else {\n",
       "        div.innerHTML = 'Something has gone wrong. Check notebook server for' +\n",
       "                        ' errors.';\n",
       "    }\n",
       "});\n",
       "})(this.parentElement, '/qiime2/redirect?location=/scratch/lfloerl/tmpdata/qiime2/lfloerl/data/49ddcec7-8435-4465-a56e-2b63a6a4086c')\" src=\"data:image/gif;base64,R0lGODlhAQABAIAAAP///wAAACH5BAEAAAAALAAAAAABAAEAAAICRAEAOw==\" /></div>"
      ],
      "text/plain": [
       "<visualization: Visualization uuid: 49ddcec7-8435-4465-a56e-2b63a6a4086c>"
      ]
     },
     "execution_count": 62,
     "metadata": {},
     "output_type": "execute_result"
    }
   ],
   "source": [
    "Visualization.load('adonis_jaccard.qzv')"
   ]
  },
  {
   "cell_type": "code",
   "execution_count": 63,
   "id": "54c137a4",
   "metadata": {
    "scrolled": false
   },
   "outputs": [
    {
     "data": {
      "text/html": [
       "<div><img onload=\"(function(div, url){\n",
       "if (typeof require !== 'undefined') {\n",
       "    var baseURL = require.toUrl('').split('/').slice(0, -2).join('/');\n",
       "} else {\n",
       "    var baseURL = JSON.parse(\n",
       "        document.getElementById('jupyter-config-data').innerHTML\n",
       "    ).baseUrl.slice(0, -1);\n",
       "}\n",
       "url = baseURL + url;\n",
       "fetch(url).then(function(res) {\n",
       "    if (res.status === 404) {\n",
       "        div.innerHTML = 'Install QIIME 2 Jupyter extension with:<br />' +\n",
       "                        '<code>jupyter serverextension enable --py qiime2' +\n",
       "                        ' --sys-prefix</code><br />then restart your server.' +\n",
       "                        '<br /><br />(Interactive output not available on ' +\n",
       "                        'static notebook viewer services like nbviewer.)';\n",
       "    } else if (res.status === 409) {\n",
       "        div.innerHTML = 'Visualization no longer in scope. Re-run this cell' +\n",
       "                        ' to see the visualization.';\n",
       "    } else if (res.ok) {\n",
       "        url = res.url;\n",
       "        div.innerHTML = '<iframe src=\\'' + url + '\\' style=\\'' +\n",
       "                        'width: 100%; height: 700px; border: 0;\\'>' +\n",
       "                        '</iframe><hr />Open in a: <a href=\\'' + url + '\\'' +\n",
       "                        ' target=\\'_blank\\'>new window</a>'\n",
       "    } else {\n",
       "        div.innerHTML = 'Something has gone wrong. Check notebook server for' +\n",
       "                        ' errors.';\n",
       "    }\n",
       "});\n",
       "})(this.parentElement, '/qiime2/redirect?location=/scratch/lfloerl/tmpdata/qiime2/lfloerl/data/0a676f9f-9e68-43d3-b346-9246ce525ec0')\" src=\"data:image/gif;base64,R0lGODlhAQABAIAAAP///wAAACH5BAEAAAAALAAAAAABAAEAAAICRAEAOw==\" /></div>"
      ],
      "text/plain": [
       "<visualization: Visualization uuid: 0a676f9f-9e68-43d3-b346-9246ce525ec0>"
      ]
     },
     "execution_count": 63,
     "metadata": {},
     "output_type": "execute_result"
    }
   ],
   "source": [
    "Visualization.load('adonis_bray_curtis.qzv')"
   ]
  },
  {
   "cell_type": "markdown",
   "id": "878673fa",
   "metadata": {},
   "source": [
    "## Make Jaccard distance matrix to plot"
   ]
  },
  {
   "cell_type": "code",
   "execution_count": 66,
   "id": "5b0441e4",
   "metadata": {},
   "outputs": [
    {
     "name": "stdout",
     "output_type": "stream",
     "text": [
      "\u001b[32mExported kmer_core-metrics_d100_f5000_k16/jaccard_pcoa_results.qza as OrdinationDirectoryFormat to directory kmer_core-metrics_d100_f5000_k16/jaccard_pcoa\u001b[0m\r\n",
      "\u001b[0m"
     ]
    }
   ],
   "source": [
    "!qiime tools export --input-path kmer_core-metrics_d100_f5000_k16/jaccard_pcoa_results.qza --output-path kmer_core-metrics_d100_f5000_k16/jaccard_pcoa"
   ]
  },
  {
   "cell_type": "code",
   "execution_count": 69,
   "id": "6bc40d12",
   "metadata": {},
   "outputs": [],
   "source": [
    "jaccard_pcoa = pd.read_csv('kmer_core-metrics_d100_f5000_k16/jaccard_pcoa/ordination.txt', sep='\\t', skiprows=9, header=None)\n",
    "\n",
    "# function to get components \n",
    "def select_components(df):\n",
    "    # Drop the last 4 rows\n",
    "    df = df.iloc[:-4]\n",
    "    # Select specific columns\n",
    "    df = df.iloc[:, [0, 1, 3]]\n",
    "    # Rename columns and set index\n",
    "    df = df.rename(columns={0: 'ID', 1: 'PC1', 3: 'PC2'}).set_index('ID')\n",
    "    return df\n",
    "\n",
    "jaccard_pcoa_df = select_components(jaccard_pcoa)\n",
    "\n",
    "# rename the index by the sample type \n",
    "md = pd.read_csv('/home/lfloerl/RxCS/Metadata/16S_PNA-test-withLoss.tsv', sep='\\t')\n",
    "\n",
    "jaccard_pcoa_df_merged = jaccard_pcoa_df.merge(md[['sample-id', 'PNAs', 'Sample']], left_on='ID', right_on='sample-id', how='left')\n",
    "\n",
    "sample_mapping = {original: f\"Sample-{i+1}\" for i, original in enumerate(jaccard_pcoa_df_merged['Sample'].unique())}\n",
    "jaccard_pcoa_df_merged['Sample'] = jaccard_pcoa_df_merged['Sample'].replace(sample_mapping)\n",
    "\n",
    "jaccard_pcoa_df_merged.head()"
   ]
  },
  {
   "cell_type": "code",
   "execution_count": 74,
   "id": "c6b93f65",
   "metadata": {},
   "outputs": [],
   "source": [
    "manual_colors = {\n",
    "    \"Sample-1\": \"#440154FF\",\n",
    "    \"Sample-2\": \"#443A83FF\",\n",
    "    \"Sample-3\": \"#31688EFF\",\n",
    "    \"Sample-4\": \"#21908CFF\",\n",
    "    \"Sample-5\": \"#35B779FF\",\n",
    "    \"Sample-6\": \"#8FD744FF\",\n",
    "    \"Sample-7\": \"#FDE725FF\"\n",
    "}"
   ]
  },
  {
   "cell_type": "code",
   "execution_count": 77,
   "id": "7fbe5910",
   "metadata": {},
   "outputs": [
    {
     "data": {
      "image/png": "[encoded data removed]",
      "text/plain": [
       "<Figure size 300x300 with 1 Axes>"
      ]
     },
     "metadata": {},
     "output_type": "display_data"
    }
   ],
   "source": [
    "# Map the colors to the DataFrame\n",
    "jaccard_pcoa_df_merged['color'] = jaccard_pcoa_df_merged['Sample'].map(manual_colors)\n",
    "\n",
    "# Define marker styles based on PNAs\n",
    "marker_styles = {'yes': 'o', 'no': '*'}\n",
    "\n",
    "# Create figure\n",
    "plt.figure(figsize=(3, 3))\n",
    "plt.tight_layout()\n",
    "\n",
    "# Plot the remaining markers\n",
    "other_data = jaccard_pcoa_df_merged[jaccard_pcoa_df_merged['PNAs'] != 'no']\n",
    "sns.scatterplot(\n",
    "    x='PC1', y='PC2',\n",
    "    data=other_data,\n",
    "    hue='Sample',\n",
    "    palette=manual_colors,\n",
    "    style='PNAs',\n",
    "    markers=marker_styles['yes'],\n",
    "    s=60,\n",
    "    edgecolor='none',\n",
    "    legend=None\n",
    ")\n",
    "\n",
    "# Plot markers with star style separately\n",
    "\n",
    "star_data = jaccard_pcoa_df_merged[jaccard_pcoa_df_merged['PNAs'] == 'no']\n",
    "sns.scatterplot(\n",
    "    x='PC1', y='PC2',\n",
    "    data=star_data,\n",
    "    hue='Sample',\n",
    "    palette=manual_colors,\n",
    "    style='PNAs',\n",
    "    markers=marker_styles['no'],\n",
    "    s=200,  # Larger size for star markers\n",
    "    edgecolor='black',  # Edge color for star markers\n",
    "    legend=None\n",
    ")\n",
    "\n",
    "# Create custom legend\n",
    "handles = [\n",
    "    plt.Line2D([], [], marker=marker_styles['yes'], color='w', markerfacecolor='grey', markersize=10, label='with PNAs'),\n",
    "    plt.Line2D([], [], marker=marker_styles['no'], color='w', markerfacecolor='grey', markersize=15, markeredgecolor='black', label='without PNAs'),\n",
    "    plt.Line2D([], [], color='none', label='   '),  # Spacer\n",
    "]\n",
    "handles += [plt.Line2D([], [], marker='o', color='w', markerfacecolor=color, markersize=10, label=index)\n",
    "            for index, color in manual_colors.items()]\n",
    "\n",
    "plt.legend(\n",
    "    handles=handles,\n",
    "    bbox_to_anchor=(1.05, 1),\n",
    "    loc='upper left',\n",
    "    handlelength=2,  # Length of the legend handle\n",
    "    handletextpad=1.1,  # Space between the handle and the label\n",
    "    columnspacing=2  # Space between columns (if multiple columns are used)\n",
    ")\n",
    "\n",
    "# Add labels and title\n",
    "plt.xlabel('PC1')\n",
    "plt.ylabel('PC2')\n",
    "\n",
    "plt.savefig('Jaccard_kmer_PCoA.png', dpi=300, bbox_inches='tight')\n",
    "plt.show()"
   ]
  },
  {
   "cell_type": "code",
   "execution_count": null,
   "id": "9b9a0c14",
   "metadata": {},
   "outputs": [],
   "source": []
  }
 ],
 "metadata": {
  "kernelspec": {
   "display_name": "Python 3 (ipykernel)",
   "language": "python",
   "name": "python3"
  },
  "language_info": {
   "codemirror_mode": {
    "name": "ipython",
    "version": 3
   },
   "file_extension": ".py",
   "mimetype": "text/x-python",
   "name": "python",
   "nbconvert_exporter": "python",
   "pygments_lexer": "ipython3",
   "version": "3.9.19"
  }
 },
 "nbformat": 4,
 "nbformat_minor": 5
}
